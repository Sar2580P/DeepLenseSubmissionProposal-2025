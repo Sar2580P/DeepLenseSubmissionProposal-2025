{
 "cells": [
  {
   "cell_type": "code",
   "execution_count": 15,
   "metadata": {},
   "outputs": [
    {
     "name": "stdout",
     "output_type": "stream",
     "text": [
      "axion: (2,), cdm: (64, 64), no: (64, 64)\n"
     ]
    }
   ],
   "source": [
    "import numpy as np\n",
    "import matplotlib.pyplot as plt\n",
    "import os\n",
    "os.chdir('/home/sarvagya/DeepLenseSubmissionProposal-2025')\n",
    "\n",
    "axion_path = 'data/Dataset/axion/axion_sim_339321430908353297068939651799477896926.npy'\n",
    "cdm_path = 'data/Dataset/cdm/cdm_sim_20369110413407829654262885881264060.npy'\n",
    "no_path = 'data/Dataset/no_sub/no_sub_sim_6956151560647865808482838248806684.npy'\n",
    "\n",
    "# Load with allow_pickle=True\n",
    "axion = np.load(axion_path, allow_pickle=True)\n",
    "cdm = np.load(cdm_path, allow_pickle=True)\n",
    "no = np.load(no_path, allow_pickle=True)\n",
    "\n",
    "print(f\"axion: {axion.shape}, cdm: {cdm.shape}, no: {no.shape}\")\n"
   ]
  },
  {
   "cell_type": "code",
   "execution_count": 17,
   "metadata": {},
   "outputs": [
    {
     "data": {
      "text/plain": [
       "(np.float64(1.951192159202817e-12), np.float64(3.837134549785011))"
      ]
     },
     "execution_count": 17,
     "metadata": {},
     "output_type": "execute_result"
    }
   ],
   "source": [
    "t = axion[0]\n",
    "\n",
    "np.min(t), np.max(t)"
   ]
  },
  {
   "cell_type": "code",
   "execution_count": 14,
   "metadata": {},
   "outputs": [
    {
     "data": {
      "text/plain": [
       "np.float64(5.0009526335747644e-24)"
      ]
     },
     "execution_count": 14,
     "metadata": {},
     "output_type": "execute_result"
    }
   ],
   "source": [
    "axion[1]"
   ]
  }
 ],
 "metadata": {
  "kernelspec": {
   "display_name": "deeplensesubmissionproposal-2025-ejQArcKQ-py3.10",
   "language": "python",
   "name": "python3"
  },
  "language_info": {
   "codemirror_mode": {
    "name": "ipython",
    "version": 3
   },
   "file_extension": ".py",
   "mimetype": "text/x-python",
   "name": "python",
   "nbconvert_exporter": "python",
   "pygments_lexer": "ipython3",
   "version": "3.10.12"
  }
 },
 "nbformat": 4,
 "nbformat_minor": 2
}
